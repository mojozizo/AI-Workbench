{
 "cells": [
  {
   "cell_type": "code",
   "execution_count": null,
   "id": "be6099f9",
   "metadata": {},
   "outputs": [],
   "source": [
    "#installations\n",
    "%pip install image | tail -n 1\n",
    "%pip install -U \"ibm_watsonx_ai>=1.1.14\" | tail -n 1"
   ]
  },
  {
   "cell_type": "code",
   "execution_count": null,
   "id": "4eb22cfc",
   "metadata": {},
   "outputs": [],
   "source": [
    "import requests\n",
    "import base64\n",
    "import getpass\n",
    "\n",
    "from PIL import Image\n",
    "from ibm_watsonx_ai import Credentials\n",
    "from ibm_watsonx_ai.foundation_models import ModelInference"
   ]
  },
  {
   "cell_type": "code",
   "execution_count": null,
   "id": "ff214a73",
   "metadata": {},
   "outputs": [],
   "source": [
    "url_image_1 = 'https://assets.ibm.com/is/image/ibm/hv6b0935?$original$'\n",
    "url_image_2 = 'https://assets.ibm.com/is/image/ibm/c30a2d57-a62b-4bb3-818895bfe2fc7bf8?$original$'\n",
    "url_image_3 = 'https://assets.ibm.com/is/image/ibm/nt170969?$original$'\n",
    "url_image_4 = 'https://assets.ibm.com/is/image/ibm/fb123b45-6530-4dd9-a758-10a7ec234d9d?$original$'\n",
    "\n",
    "image_urls = [url_image_1, url_image_2, url_image_3, url_image_4] "
   ]
  },
  {
   "cell_type": "code",
   "execution_count": null,
   "id": "181025ed",
   "metadata": {},
   "outputs": [],
   "source": [
    "for idx, url in enumerate(image_urls): \n",
    "    print(f'url_image_{idx}')\n",
    "    display(Image.open(requests.get(url, stream=True).raw))"
   ]
  },
  {
   "cell_type": "code",
   "execution_count": null,
   "id": "40ee0c3e",
   "metadata": {},
   "outputs": [],
   "source": [
    "encoded_images = []\n",
    "\n",
    "for url in image_urls: \n",
    "    encoded_images.append(base64.b64encode(requests.get(url).content).decode(\"utf-8\"))  "
   ]
  },
  {
   "cell_type": "code",
   "execution_count": null,
   "id": "c1a3eb28",
   "metadata": {},
   "outputs": [],
   "source": [
    "def augment_api_request_body(user_query, image):\n",
    "\n",
    "    messages = [\n",
    "        {\n",
    "            \"role\": \"user\",\n",
    "            \"content\": [{\n",
    "                \"type\": \"text\",\n",
    "                \"text\": 'You are a helpful assistant. Answer the following user query in 1 or 2 sentences: ' + user_query\n",
    "            },\n",
    "            {\n",
    "                \"type\": \"image_url\",\n",
    "                \"image_url\": {\n",
    "                \"url\": f\"data:image/jpeg;base64,{image}\",\n",
    "                }\n",
    "            }]\n",
    "        }\n",
    "    ]\n",
    "\n",
    "    return messages"
   ]
  },
  {
   "cell_type": "code",
   "execution_count": null,
   "id": "166347bb",
   "metadata": {},
   "outputs": [],
   "source": [
    "model = ModelInference(\n",
    "    model_id=\"meta-llama/llama-3-2-90b-vision-instruct\",\n",
    "    credentials=credentials,\n",
    "    project_id=WATSONX_PROJECT_ID,\n",
    "    params={\n",
    "        \"max_tokens\": 200\n",
    "      }\n",
    ")"
   ]
  },
  {
   "cell_type": "code",
   "execution_count": null,
   "id": "47fac04d",
   "metadata": {},
   "outputs": [],
   "source": [
    "for i in range(len(encoded_images)):\n",
    "\timage = encoded_images[i]\n",
    "\n",
    "\tuser_query = \"What is happening in this image?\"\n",
    "\t\n",
    "\tmessages = augment_api_request_body(user_query, image)\n",
    "\t\n",
    "\tresponse = model.chat(messages=messages)\n",
    "\n",
    "\tprint(response['choices'][0]['message']['content'])"
   ]
  },
  {
   "cell_type": "code",
   "execution_count": null,
   "id": "15234076",
   "metadata": {},
   "outputs": [],
   "source": [
    "image = encoded_images[1]\n",
    "\n",
    "user_query = \"How many cars are in this image?\"\n",
    "\t\n",
    "messages = augment_api_request_body(user_query, image)\n",
    "\t\n",
    "response = model.chat(messages=messages)\n",
    "\n",
    "print(response['choices'][0]['message']['content'])"
   ]
  },
  {
   "cell_type": "code",
   "execution_count": null,
   "id": "b4222a75",
   "metadata": {},
   "outputs": [],
   "source": [
    "image = encoded_images[2]\n",
    "\n",
    "user_query = \"How severe is the damage in this image?\"\n",
    "\n",
    "messages = augment_api_request_body(user_query, image)\n",
    "\t\n",
    "response = model.chat(messages=messages)\n",
    "\n",
    "print(response['choices'][0]['message']['content'])"
   ]
  },
  {
   "cell_type": "code",
   "execution_count": null,
   "id": "112c3ed3",
   "metadata": {},
   "outputs": [],
   "source": [
    "image = encoded_images[3]\n",
    "\n",
    "user_query = \"How much sodium is in this product?\"\n",
    "\n",
    "request_body = augment_api_request_body(user_query, image)\n",
    "\n",
    "messages = augment_api_request_body(user_query, image)\n",
    "\t\n",
    "response = model.chat(messages=messages)\n",
    "\n",
    "print(response['choices'][0]['message']['content'])"
   ]
  }
 ],
 "metadata": {
  "language_info": {
   "name": "python"
  }
 },
 "nbformat": 4,
 "nbformat_minor": 5
}
