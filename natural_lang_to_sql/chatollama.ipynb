{
 "cells": [
  {
   "cell_type": "code",
   "execution_count": 12,
   "metadata": {},
   "outputs": [
    {
     "name": "stdout",
     "output_type": "stream",
     "text": [
      "sqlite\n",
      "['maintenance', 'universityconfigurations']\n"
     ]
    }
   ],
   "source": [
    "from langchain.utilities import SQLDatabase\n",
    "\n",
    "connection_string = 'sqlite:///data/sample.db'\n",
    "db = SQLDatabase.from_uri(connection_string)\n",
    "print(db.dialect)\n",
    "print(db.get_usable_table_names())"
   ]
  },
  {
   "cell_type": "code",
   "execution_count": 7,
   "metadata": {},
   "outputs": [
    {
     "name": "stdout",
     "output_type": "stream",
     "text": [
      "['table_info', 'table_names']\n",
      "\n",
      "CREATE TABLE maintenance (\n",
      "\t\"Maintenance_ID\" INTEGER, \n",
      "\t\"Base_Station\" TEXT NOT NULL, \n",
      "\t\"Maintenance_Date\" TEXT NOT NULL, \n",
      "\t\"Technician_Name\" TEXT NOT NULL, \n",
      "\t\"Description\" TEXT, \n",
      "\t\"Duration_hours\" REAL NOT NULL, \n",
      "\t\"Cost\" REAL NOT NULL, \n",
      "\tPRIMARY KEY (\"Maintenance_ID\"), \n",
      "\tFOREIGN KEY(\"Base_Station\") REFERENCES universityconfigurations (\"Base_Station\")\n",
      ")\n",
      "\n",
      "/*\n",
      "3 rows from maintenance table:\n",
      "Maintenance_ID\tBase_Station\tMaintenance_Date\tTechnician_Name\tDescription\tDuration_hours\tCost\n",
      "1\tBS-001\t2023-06-15\tJohn Doe\tRoutine check-up\t2.0\t150.0\n",
      "2\tBS-002\t2023-07-10\tJane Smith\tAntenna alignment\t3.0\t200.0\n",
      "3\tBS-003\t2023-07-20\tEmily Johnson\tSoftware update\t1.5\t100.0\n",
      "*/\n",
      "\n",
      "\n",
      "CREATE TABLE universityconfigurations (\n",
      "\t\"ID\" INTEGER NOT NULL, \n",
      "\t\"Base_Station\" TEXT NOT NULL, \n",
      "\t\"Location\" TEXT NOT NULL, \n",
      "\t\"Bandwidth\" REAL NOT NULL, \n",
      "\t\"Transmission_Power\" REAL NOT NULL, \n",
      "\t\"Frequency_Band\" REAL NOT NULL, \n",
      "\t\"Coverage_Area\" REAL NOT NULL, \n",
      "\t\"Maximum_Capacity\" INTEGER NOT NULL, \n",
      "\t\"Operational_Status\" TEXT NOT NULL, \n",
      "\t\"Deployment_Date\" TEXT NOT NULL, \n",
      "\tPRIMARY KEY (\"Base_Station\")\n",
      ")\n",
      "\n",
      "/*\n",
      "3 rows from universityconfigurations table:\n",
      "ID\tBase_Station\tLocation\tBandwidth\tTransmission_Power\tFrequency_Band\tCoverage_Area\tMaximum_Capacity\tOperational_Status\tDeployment_Date\n",
      "1\tBS-001\t37.7749° N, 122.4194° W\t100.0\t40.0\t3.5\t5.0\t500\tActive\t2023-01-15\n",
      "2\tBS-002\t34.0522° N, 118.2437° W\t80.0\t35.0\t3.7\t4.5\t450\tActive\t2023-02-20\n",
      "3\tBS-003\t40.7128° N, 74.0060° W\t120.0\t45.0\t3.6\t6.0\t600\tMaintenance\t2023-03-18\n",
      "*/\n"
     ]
    }
   ],
   "source": [
    "context = db.get_context()\n",
    "print(list(context))\n",
    "print(context[\"table_info\"])"
   ]
  },
  {
   "cell_type": "code",
   "execution_count": 13,
   "metadata": {},
   "outputs": [
    {
     "name": "stdout",
     "output_type": "stream",
     "text": [
      "Basic response:\n",
      " content='<think>\\nOkay, so I need to explain what SQL injection is in one sentence. Hmm, let me think about this.\\n\\nFirst, what is SQL? Oh right, it\\'s SQL stands for Structured Query Language, which is a programming language used to manipulate data in relational databases. So when they say \"SQL injection,\" that must be something malicious happening on the database level because if someone can get SQL into an application, they could cause issues like unauthorized access or data corruption.\\n\\nWait, but how exactly does it work? I remember that SQL injection occurs when a script or piece of code executes arbitrary SQL commands. These commands are then injected into a web page, server, or other application, causing unexpected behavior or errors. For example, if an attacker injects SQL commands that modify user credentials or navigate to malicious sites.\\n\\nI should make sure the explanation is clear and concise. So putting it all together: SQL injection is when arbitrary SQL commands are executed on sensitive data in a database, which can cause unauthorized access or other security issues. That seems to cover it.\\n</think>\\n\\nSQL injection occurs when arbitrary SQL commands are executed on sensitive data within a database, potentially causing unauthorized access or security vulnerabilities.' additional_kwargs={} response_metadata={'model': 'deepseek-r1:1.5b', 'created_at': '2025-04-15T19:00:55.049515Z', 'message': {'role': 'assistant', 'content': ''}, 'done_reason': 'stop', 'done': True, 'total_duration': 7392275458, 'load_duration': 40241625, 'prompt_eval_count': 13, 'prompt_eval_duration': 528697000, 'eval_count': 241, 'eval_duration': 6817303167} id='run-3710baf0-d92f-4c6f-bb24-fe2d6cc94bbc-0'\n"
     ]
    }
   ],
   "source": [
    "from langchain_community.chat_models import ChatOllama\n",
    "\n",
    "chat_model = ChatOllama(\n",
    "    model=\"deepseek-r1:1.5b\",  \n",
    "    temperature=0.7,\n",
    "    base_url=\"http://localhost:11434\",\n",
    "    # format=\"json\",\n",
    ")\n",
    "\n",
    "response = chat_model.invoke(\"Explain what SQL injection is in one sentence.\")\n",
    "print(\"Basic response:\\n\", response)"
   ]
  },
  {
   "cell_type": "code",
   "execution_count": 14,
   "metadata": {},
   "outputs": [
    {
     "name": "stdout",
     "output_type": "stream",
     "text": [
      "Response with context:\n",
      " content='<think>\\nAlright, so I need to figure out how many base stations are in the database. Let me start by recalling what I know about SQLite queries. The question mentions using only specific columns and not querying all of them. \\n\\nI remember that in my previous questions, when someone asked \"Count the number of base stations?\", the response involved a query that selects a count from the station table. The SQL was `SELECT COUNT(``base stations ```) as count FROM station`. So, I should follow a similar structure here.\\n\\nFirst, I\\'ll need to select just one column which is the count of the \\'base stations\\' field. Since it\\'s stored in a column that might be quoted or not, but in SQLite, when you use double quotes around a string, they are treated as literals unless there\\'s an escape character. However, since we\\'re selecting the count directly, I can just write `COUNT(``base stations ```)`.\\n\\nNow, considering the tables provided earlier, which one contains base station data? Let me check. Looking at my knowledge, the \\'stations\\' table does have a column named \\'base stations\\'. So, it\\'s safe to use that.\\n\\nPutting it all together, the query should select the count of \\'base stations\\' from the \\'stations\\' table. I\\'ll need to wrap each column in double quotes because they might contain special characters or be part of quoted strings. Also, since we\\'re using double quotes, I have to make sure that the variable name is properly escaped if necessary.\\n\\nWait a second, does the count function handle any potential issues like case sensitivity? Well, SQLite should be case-insensitive for string literals, but in this context, it\\'s likely expecting \\'base stations\\' without quotes inside. So, no problem there.\\n\\nAlso, I should make sure that the table name and column name are correct. The table is called \\'stations\\', and the column is \\'base stations\\'. So, the query should be `SELECT COUNT(``base stations ```) AS count FROM stations`.\\n\\nLet me double-check to ensure I\\'m not missing anything else. Is there a possibility of the base stations being stored as a string or number? In SQLite, unless specified otherwise, they are treated as strings, but for counts, numbers might make more sense. However, since the question is about counting, and the field is named \\'base stations\\', it\\'s likely that it\\'s intended to be counted as a number.\\n\\nWait, actually, looking back, if I use `COUNT(``base stations ``)`, SQLite will interpret it as a string count unless specified otherwise. But counts are usually numeric. Maybe I should specify it as `COUNT(``base stations``)` instead of `COUNT(``base stations ``)`). That way, it\\'s clear that we\\'re counting the field.\\n\\nAlternatively, perhaps I can just use `COUNT(``base stations``)`. Let me test that in my mind. If the \\'base stations\\' column is a string, COUNT would return the number of non-null, non-empty strings. But if it\\'s numeric, COUNT would give the total. Since the question asks for the count, I think specifying it as `COUNT(``base stations``)` makes sense because otherwise, it might not be clear whether it\\'s counting the field or treating it differently.\\n\\nWait, but in SQLite, COUNT is a function that counts all rows where the specified column is not null and is not an empty string. So if \\'base stations\\' contains spaces or special characters, it would still count them as long as they are not empty strings. But for counts, using numbers is more appropriate because you can\\'t have negative counts. Therefore, specifying `COUNT(``base stations``)` ensures that we\\'re counting numeric values.\\n\\nHmm, but the original query I answered had `COUNT(``base stations ``) as count FROM stations`. So maybe I should stick with that structure for consistency unless I adjust it based on my analysis.\\n\\nAlternatively, perhaps it\\'s better to just write it without quotes if possible. But no, in SQLite, string literals are enclosed in double quotes. So even though \\'base stations\\' is a number or a numeric string, it\\'s still enclosed in quotes because they are treated as literals unless part of an expression. Wait, actually, no—SQLite treats them differently when the field is a string or a number.\\n\\nWait, I think this might be confusing. Let me clarify: if \\'base stations\\' is stored as a string, then COUNT would count all non-null, non-empty strings. But for counts, it\\'s better to use numbers because you can\\'t have negative values. Therefore, I should write `COUNT(``base stations``)` instead of `COUNT(``base stations ``)`.\\n\\nSo, putting it together, the query should be:\\n\\nSELECT COUNT(``base stations``) AS count FROM stations\\n\\nThis way, we\\'re correctly counting the numeric field \\'base stations\\' from the \\'stations\\' table. That should give us the number of base stations accurately.\\n\\nI think that\\'s it. So the SQL query to run would be as above.\\n</think>\\n\\nTo determine the number of base stations in the database, we\\'ll use the following SQLite query:\\n\\n```sql\\nSELECT COUNT(``base stations``) AS count FROM stations\\n```\\n\\nThis query selects the count of the \\'base stations\\' field from the \\'stations\\' table. The COUNT function ensures that we\\'re accurately counting numeric values, which is appropriate for this purpose.' additional_kwargs={} response_metadata={'model': 'deepseek-r1:1.5b', 'created_at': '2025-04-15T19:04:12.714587Z', 'message': {'role': 'assistant', 'content': ''}, 'done_reason': 'stop', 'done': True, 'total_duration': 35038308667, 'load_duration': 38757875, 'prompt_eval_count': 192, 'prompt_eval_duration': 1105944708, 'eval_count': 1112, 'eval_duration': 33841308375} id='run-258f5287-9e83-404d-89aa-d6e2301777a5-0'\n"
     ]
    }
   ],
   "source": [
    "from langchain_core.messages import HumanMessage, SystemMessage\n",
    "\n",
    "messages = [\n",
    "    SystemMessage(content='''You are a SQLite expert. Given an input question, first create a syntactically correct SQLite query to run, then look at the results of the query and return the answer to the \n",
    "input question.\n",
    "Never query for all columns from a table. You must query only the columns that are needed to answer the question. Wrap each column name in double quotes (\") to denote them as delimited identifiers.\n",
    "Pay attention to use only the column names you can see in the tables below. Be careful to not query for columns that do not exist. Also, pay attention to which column is in which table.\n",
    "Pay attention to use date('now') function to get the current date, if the question involves \"today\".\n",
    "If mot mentioned do not use {top_k} rows. Output only the SQL Query without any output or result of the query.\n",
    "If the answer could not be found, give a single line meaningful error'''),\n",
    "    HumanMessage(content=\"Count the number of base stations?\")\n",
    "]\n",
    "\n",
    "response = chat_model.invoke(messages)\n",
    "print(\"Response with context:\\n\", response)"
   ]
  },
  {
   "cell_type": "code",
   "execution_count": null,
   "metadata": {},
   "outputs": [
    {
     "data": {
      "text/plain": [
       "'<think>\\nOkay, so I need to figure out how to answer this question using SQLite. The user provided some context about two tables: maintenance and universityconfigurations. They also gave me a table of maintenance records with their details.\\n\\nThe question is asking for the station ID. Looking at the maintenance table, each row has a \"Maintenance_ID\" which seems to be unique per base station. The base station name is in the format BS-00X, where X is the station number. For example, BS-001, BS-002, etc.\\n\\nSo, if I want to find out the station ID for a specific base station, I can join the maintenance table with the universityconfigurations table on \"Base_Station\". That way, I can get both the maintenance_id and the corresponding base station name from the universityconfigurations table.\\n\\nI should write an SQL query that selects the maintenance_id. But since each maintenance_id corresponds to a unique base station, I need to make sure that the query only returns the maintenance_id for the correct base station. \\n\\nWait, but how do I know which maintenance_id to pick? The user didn\\'t specify which base station they\\'re interested in. Maybe they just want a general way to find any maintenance_id based on the base station name.\\n\\nSo, using a LEFT JOIN would be appropriate here because it will return all rows from the maintenance table where the \"Base_Station\" matches each row in the universityconfigurations table. This ensures that I get the correct maintenance_id for each base station.\\n\\nI should also make sure to use the column names with double quotes as per SQLite syntax, even though they\\'re single letters here. So, it would be \"Maintenance_ID\", not just Maintenance_ID.\\n\\nPutting it all together, the SQL query will select the maintenance_id from the maintenance table where the base_station matches each row in the universityconfigurations table. This should give me the correct station ID for any given base station.\\n</think>\\n\\nTo find the station ID based on the provided context and data, we can use a LEFT JOIN between the maintenance and universityconfigurations tables to retrieve the maintenance_id corresponding to each base station.\\n\\nSQLQuery:\\n```sql\\nSELECT \"Maintenance_ID\" \\nFROM maintenance \\nLEFT JOIN universityconfigurations \\nON \"Base_Station\" = \"Base_Station\"\\n```\\n\\nThis query will return the maintenance_id for each base station in the universityconfigurations table.'"
      ]
     },
     "execution_count": 10,
     "metadata": {},
     "output_type": "execute_result"
    }
   ],
   "source": []
  }
 ],
 "metadata": {
  "kernelspec": {
   "display_name": "base",
   "language": "python",
   "name": "python3"
  },
  "language_info": {
   "codemirror_mode": {
    "name": "ipython",
    "version": 3
   },
   "file_extension": ".py",
   "mimetype": "text/x-python",
   "name": "python",
   "nbconvert_exporter": "python",
   "pygments_lexer": "ipython3",
   "version": "3.12.4"
  }
 },
 "nbformat": 4,
 "nbformat_minor": 2
}
