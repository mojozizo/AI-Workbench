{
 "cells": [
  {
   "cell_type": "code",
   "execution_count": null,
   "metadata": {},
   "outputs": [],
   "source": [
    "from langchain_community.utilities import SQLDatabase\n",
    "from langchain.llms import Ollama"
   ]
  },
  {
   "cell_type": "code",
   "execution_count": 2,
   "metadata": {},
   "outputs": [
    {
     "name": "stdout",
     "output_type": "stream",
     "text": [
      "['maintenance', 'universityconfigurations']\n"
     ]
    }
   ],
   "source": [
    "db_path = \"data/sample.db\"\n",
    "db = SQLDatabase.from_uri(f\"sqlite:///{db_path}\")\n",
    "llm = Ollama(base_url=\"http://localhost:11434\",model=\"project\")\n",
    "llm.invoke(\"Who are you\")\n",
    "print(db.get_usable_table_names())"
   ]
  },
  {
   "cell_type": "code",
   "execution_count": 6,
   "metadata": {},
   "outputs": [],
   "source": [
    "from vanna.ollama import Ollama\n",
    "from vanna.chromadb import ChromaDB_VectorStore\n",
    "\n",
    "class MyVanna(ChromaDB_VectorStore, Ollama):\n",
    "    def __init__(self, config=None):\n",
    "        ChromaDB_VectorStore.__init__(self, config=config)\n",
    "        Ollama.__init__(self, config=config)\n",
    "\n",
    "vn = MyVanna(config={'model': 'gemma:2b'})"
   ]
  },
  {
   "cell_type": "code",
   "execution_count": 9,
   "metadata": {},
   "outputs": [],
   "source": [
    "vn.connect_to_sqlite('my-database.sqlite')"
   ]
  },
  {
   "cell_type": "code",
   "execution_count": 10,
   "metadata": {},
   "outputs": [
    {
     "name": "stdout",
     "output_type": "stream",
     "text": [
      "Adding ddl: CREATE TABLE sqlite_sequence(name,seq)\n"
     ]
    },
    {
     "name": "stderr",
     "output_type": "stream",
     "text": [
      "/Users/jijovaliyaveettil/.cache/chroma/onnx_models/all-MiniLM-L6-v2/onnx.tar.gz: 100%|██████████| 79.3M/79.3M [00:48<00:00, 1.71MiB/s]\n"
     ]
    },
    {
     "name": "stdout",
     "output_type": "stream",
     "text": [
      "Adding ddl: CREATE TABLE \"maintenance\" (\n",
      "    Maintenance_ID INTEGER PRIMARY KEY,\n",
      "    Base_Station TEXT NOT NULL,\n",
      "    Maintenance_Date TEXT NOT NULL,\n",
      "    Technician_Name TEXT NOT NULL,\n",
      "    Description TEXT,\n",
      "    Duration_hours REAL NOT NULL,\n",
      "    Cost REAL NOT NULL,\n",
      "    FOREIGN KEY (Base_Station) REFERENCES universityconfigurations(Base_Station)\n",
      ")\n",
      "Adding ddl: CREATE TABLE \"universityconfigurations\" (\n",
      "    ID INTEGER NOT NULL,\n",
      "    Base_Station TEXT NOT NULL,\n",
      "    Location TEXT NOT NULL,\n",
      "    Bandwidth REAL NOT NULL,\n",
      "    Transmission_Power REAL NOT NULL,\n",
      "    Frequency_Band REAL NOT NULL,\n",
      "    Coverage_Area REAL NOT NULL,\n",
      "    Maximum_Capacity INTEGER NOT NULL,\n",
      "    Operational_Status TEXT NOT NULL,\n",
      "    Deployment_Date TEXT NOT NULL,\n",
      "    PRIMARY KEY (Base_Station)\n",
      ")\n"
     ]
    }
   ],
   "source": [
    "df_ddl = vn.run_sql(\"SELECT type, sql FROM sqlite_master WHERE sql is not null\")\n",
    "\n",
    "for ddl in df_ddl['sql'].to_list():\n",
    "  vn.train(ddl=ddl)"
   ]
  },
  {
   "cell_type": "code",
   "execution_count": 11,
   "metadata": {},
   "outputs": [
    {
     "name": "stdout",
     "output_type": "stream",
     "text": [
      "Adding ddl: \n",
      "    CREATE TABLE IF NOT EXISTS my-table (\n",
      "        id INT PRIMARY KEY,\n",
      "        name VARCHAR(100),\n",
      "        age INT\n",
      "    )\n",
      "\n",
      "Adding documentation....\n"
     ]
    },
    {
     "data": {
      "text/plain": [
       "'ff9ba045-1fd7-5636-83b9-669ecdf8976d-doc'"
      ]
     },
     "execution_count": 11,
     "metadata": {},
     "output_type": "execute_result"
    }
   ],
   "source": [
    "vn.train(ddl=\"\"\"\n",
    "    CREATE TABLE IF NOT EXISTS my-table (\n",
    "        id INT PRIMARY KEY,\n",
    "        name VARCHAR(100),\n",
    "        age INT\n",
    "    )\n",
    "\"\"\")\n",
    "\n",
    "# Sometimes you may want to add documentation about your business terminology or definitions.\n",
    "vn.train(documentation=\"Our university defines base stations as BS-XXX, where XXX is the base station number.\")\n"
   ]
  },
  {
   "cell_type": "code",
   "execution_count": 12,
   "metadata": {},
   "outputs": [
    {
     "data": {
      "text/html": [
       "<div>\n",
       "<style scoped>\n",
       "    .dataframe tbody tr th:only-of-type {\n",
       "        vertical-align: middle;\n",
       "    }\n",
       "\n",
       "    .dataframe tbody tr th {\n",
       "        vertical-align: top;\n",
       "    }\n",
       "\n",
       "    .dataframe thead th {\n",
       "        text-align: right;\n",
       "    }\n",
       "</style>\n",
       "<table border=\"1\" class=\"dataframe\">\n",
       "  <thead>\n",
       "    <tr style=\"text-align: right;\">\n",
       "      <th></th>\n",
       "      <th>id</th>\n",
       "      <th>question</th>\n",
       "      <th>content</th>\n",
       "      <th>training_data_type</th>\n",
       "    </tr>\n",
       "  </thead>\n",
       "  <tbody>\n",
       "    <tr>\n",
       "      <th>0</th>\n",
       "      <td>40260ea4-7947-51dd-9961-8a55d48ba286-ddl</td>\n",
       "      <td>None</td>\n",
       "      <td>CREATE TABLE \"maintenance\" (\\n    Maintenance_...</td>\n",
       "      <td>ddl</td>\n",
       "    </tr>\n",
       "    <tr>\n",
       "      <th>1</th>\n",
       "      <td>4aafa9de-6443-5409-86f9-5d581327d6a0-ddl</td>\n",
       "      <td>None</td>\n",
       "      <td>\\n    CREATE TABLE IF NOT EXISTS my-table (\\n ...</td>\n",
       "      <td>ddl</td>\n",
       "    </tr>\n",
       "    <tr>\n",
       "      <th>2</th>\n",
       "      <td>4ea4e13c-6122-5334-8f14-f9d3563e9591-ddl</td>\n",
       "      <td>None</td>\n",
       "      <td>CREATE TABLE \"universityconfigurations\" (\\n   ...</td>\n",
       "      <td>ddl</td>\n",
       "    </tr>\n",
       "    <tr>\n",
       "      <th>3</th>\n",
       "      <td>ea84418b-1a28-59b4-a1f4-2fb674208adc-ddl</td>\n",
       "      <td>None</td>\n",
       "      <td>CREATE TABLE sqlite_sequence(name,seq)</td>\n",
       "      <td>ddl</td>\n",
       "    </tr>\n",
       "    <tr>\n",
       "      <th>0</th>\n",
       "      <td>ff9ba045-1fd7-5636-83b9-669ecdf8976d-doc</td>\n",
       "      <td>None</td>\n",
       "      <td>Our university defines base stations as BS-XXX...</td>\n",
       "      <td>documentation</td>\n",
       "    </tr>\n",
       "  </tbody>\n",
       "</table>\n",
       "</div>"
      ],
      "text/plain": [
       "                                         id question  \\\n",
       "0  40260ea4-7947-51dd-9961-8a55d48ba286-ddl     None   \n",
       "1  4aafa9de-6443-5409-86f9-5d581327d6a0-ddl     None   \n",
       "2  4ea4e13c-6122-5334-8f14-f9d3563e9591-ddl     None   \n",
       "3  ea84418b-1a28-59b4-a1f4-2fb674208adc-ddl     None   \n",
       "0  ff9ba045-1fd7-5636-83b9-669ecdf8976d-doc     None   \n",
       "\n",
       "                                             content training_data_type  \n",
       "0  CREATE TABLE \"maintenance\" (\\n    Maintenance_...                ddl  \n",
       "1  \\n    CREATE TABLE IF NOT EXISTS my-table (\\n ...                ddl  \n",
       "2  CREATE TABLE \"universityconfigurations\" (\\n   ...                ddl  \n",
       "3             CREATE TABLE sqlite_sequence(name,seq)                ddl  \n",
       "0  Our university defines base stations as BS-XXX...      documentation  "
      ]
     },
     "execution_count": 12,
     "metadata": {},
     "output_type": "execute_result"
    }
   ],
   "source": [
    "training_data = vn.get_training_data()\n",
    "training_data"
   ]
  },
  {
   "cell_type": "code",
   "execution_count": 14,
   "metadata": {},
   "outputs": [
    {
     "name": "stderr",
     "output_type": "stream",
     "text": [
      "Number of requested results 10 is greater than number of elements in index 1, updating n_results = 1\n",
      "Number of requested results 10 is greater than number of elements in index 4, updating n_results = 4\n",
      "Number of requested results 10 is greater than number of elements in index 1, updating n_results = 1\n"
     ]
    },
    {
     "name": "stdout",
     "output_type": "stream",
     "text": [
      "SQL Prompt: [{'role': 'system', 'content': 'You are a SQLite expert. Please help to generate a SQL query to answer the question. Your response should ONLY be based on the given context and follow the response guidelines and format instructions. \\n===Tables \\nCREATE TABLE \"universityconfigurations\" (\\n    ID INTEGER NOT NULL,\\n    Base_Station TEXT NOT NULL,\\n    Location TEXT NOT NULL,\\n    Bandwidth REAL NOT NULL,\\n    Transmission_Power REAL NOT NULL,\\n    Frequency_Band REAL NOT NULL,\\n    Coverage_Area REAL NOT NULL,\\n    Maximum_Capacity INTEGER NOT NULL,\\n    Operational_Status TEXT NOT NULL,\\n    Deployment_Date TEXT NOT NULL,\\n    PRIMARY KEY (Base_Station)\\n)\\n\\nCREATE TABLE \"maintenance\" (\\n    Maintenance_ID INTEGER PRIMARY KEY,\\n    Base_Station TEXT NOT NULL,\\n    Maintenance_Date TEXT NOT NULL,\\n    Technician_Name TEXT NOT NULL,\\n    Description TEXT,\\n    Duration_hours REAL NOT NULL,\\n    Cost REAL NOT NULL,\\n    FOREIGN KEY (Base_Station) REFERENCES universityconfigurations(Base_Station)\\n)\\n\\nCREATE TABLE sqlite_sequence(name,seq)\\n\\n\\n    CREATE TABLE IF NOT EXISTS my-table (\\n        id INT PRIMARY KEY,\\n        name VARCHAR(100),\\n        age INT\\n    )\\n\\n\\n\\n===Additional Context \\n\\nOur university defines base stations as BS-XXX, where XXX is the base station number.\\n\\n===Response Guidelines \\n1. If the provided context is sufficient, please generate a valid SQL query without any explanations for the question. \\n2. If the provided context is almost sufficient but requires knowledge of a specific string in a particular column, please generate an intermediate SQL query to find the distinct strings in that column. Prepend the query with a comment saying intermediate_sql \\n3. If the provided context is insufficient, please explain why it can\\'t be generated. \\n4. Please use the most relevant table(s). \\n5. If the question has been asked and answered before, please repeat the answer exactly as it was given before. \\n6. Ensure that the output SQL is SQLite-compliant and executable, and free of syntax errors. \\n'}, {'role': 'user', 'content': 'How many base stations are there ?'}, {'role': 'assistant', 'content': 'SELECT COUNT(*) AS num_base_stations\\nFROM universityconfigurations'}, {'role': 'user', 'content': 'How many base stations are there ?'}]\n",
      "Info: Ollama parameters:\n",
      "model=gemma:2b,\n",
      "options={},\n",
      "keep_alive=None\n",
      "Info: Prompt Content:\n",
      "[{\"role\": \"system\", \"content\": \"You are a SQLite expert. Please help to generate a SQL query to answer the question. Your response should ONLY be based on the given context and follow the response guidelines and format instructions. \\n===Tables \\nCREATE TABLE \\\"universityconfigurations\\\" (\\n    ID INTEGER NOT NULL,\\n    Base_Station TEXT NOT NULL,\\n    Location TEXT NOT NULL,\\n    Bandwidth REAL NOT NULL,\\n    Transmission_Power REAL NOT NULL,\\n    Frequency_Band REAL NOT NULL,\\n    Coverage_Area REAL NOT NULL,\\n    Maximum_Capacity INTEGER NOT NULL,\\n    Operational_Status TEXT NOT NULL,\\n    Deployment_Date TEXT NOT NULL,\\n    PRIMARY KEY (Base_Station)\\n)\\n\\nCREATE TABLE \\\"maintenance\\\" (\\n    Maintenance_ID INTEGER PRIMARY KEY,\\n    Base_Station TEXT NOT NULL,\\n    Maintenance_Date TEXT NOT NULL,\\n    Technician_Name TEXT NOT NULL,\\n    Description TEXT,\\n    Duration_hours REAL NOT NULL,\\n    Cost REAL NOT NULL,\\n    FOREIGN KEY (Base_Station) REFERENCES universityconfigurations(Base_Station)\\n)\\n\\nCREATE TABLE sqlite_sequence(name,seq)\\n\\n\\n    CREATE TABLE IF NOT EXISTS my-table (\\n        id INT PRIMARY KEY,\\n        name VARCHAR(100),\\n        age INT\\n    )\\n\\n\\n\\n===Additional Context \\n\\nOur university defines base stations as BS-XXX, where XXX is the base station number.\\n\\n===Response Guidelines \\n1. If the provided context is sufficient, please generate a valid SQL query without any explanations for the question. \\n2. If the provided context is almost sufficient but requires knowledge of a specific string in a particular column, please generate an intermediate SQL query to find the distinct strings in that column. Prepend the query with a comment saying intermediate_sql \\n3. If the provided context is insufficient, please explain why it can't be generated. \\n4. Please use the most relevant table(s). \\n5. If the question has been asked and answered before, please repeat the answer exactly as it was given before. \\n6. Ensure that the output SQL is SQLite-compliant and executable, and free of syntax errors. \\n\"}, {\"role\": \"user\", \"content\": \"How many base stations are there ?\"}, {\"role\": \"assistant\", \"content\": \"SELECT COUNT(*) AS num_base_stations\\nFROM universityconfigurations\"}, {\"role\": \"user\", \"content\": \"How many base stations are there ?\"}]\n",
      "Info: Ollama Response:\n",
      "{'model': 'gemma:2b', 'created_at': '2024-08-16T00:05:26.093366Z', 'message': {'role': 'assistant', 'content': '```sql\\nSELECT COUNT(*) AS num_base_stations\\nFROM universityconfigurations;\\n```'}, 'done_reason': 'stop', 'done': True, 'total_duration': 6923764500, 'load_duration': 49559500, 'prompt_eval_count': 546, 'prompt_eval_duration': 6149510000, 'eval_count': 20, 'eval_duration': 675686000}\n",
      "LLM Response: ```sql\n",
      "SELECT COUNT(*) AS num_base_stations\n",
      "FROM universityconfigurations;\n",
      "```\n",
      "Info: Output from LLM: ```sql\n",
      "SELECT COUNT(*) AS num_base_stations\n",
      "FROM universityconfigurations;\n",
      "``` \n",
      "Extracted SQL: SELECT COUNT(*) AS num_base_stations\n",
      "FROM universityconfigurations\n",
      "SELECT COUNT(*) AS num_base_stations\n",
      "FROM universityconfigurations\n",
      "   num_base_stations\n",
      "0                 10\n"
     ]
    },
    {
     "name": "stderr",
     "output_type": "stream",
     "text": [
      "Insert of existing embedding ID: 03cc2f9f-405e-58ed-827f-51a25f92cf8e-sql\n",
      "Add of existing embedding ID: 03cc2f9f-405e-58ed-827f-51a25f92cf8e-sql\n"
     ]
    },
    {
     "name": "stdout",
     "output_type": "stream",
     "text": [
      "Info: Ollama parameters:\n",
      "model=gemma:2b,\n",
      "options={},\n",
      "keep_alive=None\n",
      "Info: Prompt Content:\n",
      "[{\"role\": \"system\", \"content\": \"The following is a pandas DataFrame that contains the results of the query that answers the question the user asked: 'How many base stations are there ?'\\n\\nThe DataFrame was produced using this query: SELECT COUNT(*) AS num_base_stations\\nFROM universityconfigurations\\n\\nThe following is information about the resulting pandas DataFrame 'df': \\nRunning df.dtypes gives:\\n num_base_stations    int64\\ndtype: object\"}, {\"role\": \"user\", \"content\": \"Can you generate the Python plotly code to chart the results of the dataframe? Assume the data is in a pandas dataframe called 'df'. If there is only one value in the dataframe, use an Indicator. Respond with only Python code. Do not answer with any explanations -- just the code.\"}]\n",
      "Info: Ollama Response:\n",
      "{'model': 'gemma:2b', 'created_at': '2024-08-16T00:05:32.129398Z', 'message': {'role': 'assistant', 'content': \"```python\\nimport plotly.graph_objects as go\\nimport pandas as pd\\n\\n# Generate the plotly figure and axis\\nfig, ax = go.subplots()\\n\\n# Add a scatter plot to the axis\\nax.scatter(df['num_base_stations'], 'index', data=df, label='Number of Base Stations')\\n\\n# Set plot labels and legend\\nax.set_title('Number of Base Stations')\\nax.set_xlabel('Number of Base Stations')\\nax.set_ylabel('Count')\\nax.legend(loc='center left', bbox_to_anchor=(1, 0.5))\\n\\n# Show the plot\\nfig.show()\\n```\"}, 'done_reason': 'stop', 'done': True, 'total_duration': 5542891958, 'load_duration': 76977417, 'prompt_eval_count': 170, 'prompt_eval_duration': 431970000, 'eval_count': 145, 'eval_duration': 4985069000}\n",
      "Couldn't run plotly code:  Mime type rendering requires nbformat>=4.2.0 but it is not installed\n"
     ]
    },
    {
     "name": "stderr",
     "output_type": "stream",
     "text": [
      "huggingface/tokenizers: The current process just got forked, after parallelism has already been used. Disabling parallelism to avoid deadlocks...\n",
      "To disable this warning, you can either:\n",
      "\t- Avoid using `tokenizers` before the fork if possible\n",
      "\t- Explicitly set the environment variable TOKENIZERS_PARALLELISM=(true | false)\n",
      "Traceback (most recent call last):\n",
      "  File \"/Users/jijovaliyaveettil/Desktop/Research Project/SQL/venv/lib/python3.12/site-packages/vanna/base/base.py\", line 1708, in ask\n",
      "    img_bytes = fig.to_image(format=\"png\", scale=2)\n",
      "                ^^^^^^^^^^^^^^^^^^^^^^^^^^^^^^^^^^^\n",
      "  File \"/Users/jijovaliyaveettil/Desktop/Research Project/SQL/venv/lib/python3.12/site-packages/plotly/basedatatypes.py\", line 3772, in to_image\n",
      "    return pio.to_image(self, *args, **kwargs)\n",
      "           ^^^^^^^^^^^^^^^^^^^^^^^^^^^^^^^^^^^\n",
      "  File \"/Users/jijovaliyaveettil/Desktop/Research Project/SQL/venv/lib/python3.12/site-packages/plotly/io/_kaleido.py\", line 143, in to_image\n",
      "    img_bytes = scope.transform(\n",
      "                ^^^^^^^^^^^^^^^^\n",
      "  File \"/Users/jijovaliyaveettil/Desktop/Research Project/SQL/venv/lib/python3.12/site-packages/kaleido/scopes/plotly.py\", line 153, in transform\n",
      "    response = self._perform_transform(\n",
      "               ^^^^^^^^^^^^^^^^^^^^^^^^\n",
      "  File \"/Users/jijovaliyaveettil/Desktop/Research Project/SQL/venv/lib/python3.12/site-packages/kaleido/scopes/base.py\", line 293, in _perform_transform\n",
      "    self._ensure_kaleido()\n",
      "  File \"/Users/jijovaliyaveettil/Desktop/Research Project/SQL/venv/lib/python3.12/site-packages/kaleido/scopes/base.py\", line 198, in _ensure_kaleido\n",
      "    raise ValueError(message)\n",
      "ValueError: Failed to start Kaleido subprocess. Error stream:\n",
      "\n",
      "/Users/jijovaliyaveettil/Desktop/Research Project/SQL/venv/lib/python3.12/site-packages/kaleido/executable/kaleido: line 4: cd: /Users/jijovaliyaveettil/Desktop/Research: No such file or directory\n",
      "/Users/jijovaliyaveettil/Desktop/Research Project/SQL/venv/lib/python3.12/site-packages/kaleido/executable/kaleido: line 5: ./bin/kaleido: No such file or directory\n",
      "\n",
      "\n",
      "During handling of the above exception, another exception occurred:\n",
      "\n",
      "Traceback (most recent call last):\n",
      "  File \"/Users/jijovaliyaveettil/Desktop/Research Project/SQL/venv/lib/python3.12/site-packages/vanna/base/base.py\", line 1711, in ask\n",
      "    fig.show()\n",
      "  File \"/Users/jijovaliyaveettil/Desktop/Research Project/SQL/venv/lib/python3.12/site-packages/plotly/basedatatypes.py\", line 3410, in show\n",
      "    return pio.show(self, *args, **kwargs)\n",
      "           ^^^^^^^^^^^^^^^^^^^^^^^^^^^^^^^\n",
      "  File \"/Users/jijovaliyaveettil/Desktop/Research Project/SQL/venv/lib/python3.12/site-packages/plotly/io/_renderers.py\", line 394, in show\n",
      "    raise ValueError(\n",
      "ValueError: Mime type rendering requires nbformat>=4.2.0 but it is not installed\n"
     ]
    }
   ],
   "source": [
    "vn.ask(question=\"How many base stations are there ?\")"
   ]
  },
  {
   "cell_type": "code",
   "execution_count": null,
   "metadata": {},
   "outputs": [],
   "source": []
  },
  {
   "cell_type": "code",
   "execution_count": null,
   "metadata": {},
   "outputs": [],
   "source": []
  }
 ],
 "metadata": {
  "kernelspec": {
   "display_name": ".venv",
   "language": "python",
   "name": "python3"
  },
  "language_info": {
   "codemirror_mode": {
    "name": "ipython",
    "version": 3
   },
   "file_extension": ".py",
   "mimetype": "text/x-python",
   "name": "python",
   "nbconvert_exporter": "python",
   "pygments_lexer": "ipython3",
   "version": "3.12.4"
  }
 },
 "nbformat": 4,
 "nbformat_minor": 2
}
