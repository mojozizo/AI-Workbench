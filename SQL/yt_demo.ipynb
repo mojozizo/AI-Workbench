{
 "cells": [
  {
   "cell_type": "code",
   "execution_count": 3,
   "metadata": {},
   "outputs": [],
   "source": [
    "from langchain_community.utilities import SQLDatabase\n",
    "from langchain_experimental.sql import SQLDatabaseChain\n",
    "from langchain.prompts import PromptTemplate\n",
    "from langchain.prompts.chat import HumanMessagePromptTemplate\n",
    "from langchain.llms import Ollama\n",
    "from langchain.schema import HumanMessage, SystemMessage"
   ]
  },
  {
   "cell_type": "code",
   "execution_count": 5,
   "metadata": {},
   "outputs": [
    {
     "name": "stdout",
     "output_type": "stream",
     "text": [
      "sqlite\n",
      "['maintenance', 'universityconfigurations']\n"
     ]
    }
   ],
   "source": [
    "from langchain.utilities import SQLDatabase\n",
    "\n",
    "connection_string = 'sqlite:///data/sample.db'\n",
    "db = SQLDatabase.from_uri(connection_string)\n",
    "print(db.dialect)\n",
    "print(db.get_usable_table_names())"
   ]
  },
  {
   "cell_type": "code",
   "execution_count": 6,
   "metadata": {},
   "outputs": [
    {
     "data": {
      "text/plain": [
       "AIMessage(content='Hello! I am your intelligent chat assistant for the Technical University of Ilmenau. I am here to assist you with your 5G technology research.\\n\\nHow can I help you today?', response_metadata={'model': 'project', 'created_at': '2024-08-19T18:43:03.119908Z', 'message': {'role': 'assistant', 'content': ''}, 'done_reason': 'stop', 'done': True, 'total_duration': 4049856208, 'load_duration': 45374708, 'prompt_eval_count': 493, 'prompt_eval_duration': 2646992000, 'eval_count': 40, 'eval_duration': 1349137000}, id='run-d446c749-ed8c-4acf-bed4-8a1b7809227d-0', usage_metadata={'input_tokens': 493, 'output_tokens': 40, 'total_tokens': 533})"
      ]
     },
     "execution_count": 6,
     "metadata": {},
     "output_type": "execute_result"
    }
   ],
   "source": [
    "from langchain_ollama.chat_models import ChatOllama\n",
    "llm = ChatOllama(model=\"project\")\n",
    "llm.invoke(\"Who are you ?\")"
   ]
  },
  {
   "cell_type": "code",
   "execution_count": 7,
   "metadata": {},
   "outputs": [
    {
     "name": "stdout",
     "output_type": "stream",
     "text": [
      "['table_info', 'table_names']\n",
      "\n",
      "CREATE TABLE maintenance (\n",
      "\t\"Maintenance_ID\" INTEGER, \n",
      "\t\"Base_Station\" TEXT NOT NULL, \n",
      "\t\"Maintenance_Date\" TEXT NOT NULL, \n",
      "\t\"Technician_Name\" TEXT NOT NULL, \n",
      "\t\"Description\" TEXT, \n",
      "\t\"Duration_hours\" REAL NOT NULL, \n",
      "\t\"Cost\" REAL NOT NULL, \n",
      "\tPRIMARY KEY (\"Maintenance_ID\"), \n",
      "\tFOREIGN KEY(\"Base_Station\") REFERENCES universityconfigurations (\"Base_Station\")\n",
      ")\n",
      "\n",
      "/*\n",
      "3 rows from maintenance table:\n",
      "Maintenance_ID\tBase_Station\tMaintenance_Date\tTechnician_Name\tDescription\tDuration_hours\tCost\n",
      "1\tBS-001\t2023-06-15\tJohn Doe\tRoutine check-up\t2.0\t150.0\n",
      "2\tBS-002\t2023-07-10\tJane Smith\tAntenna alignment\t3.0\t200.0\n",
      "3\tBS-003\t2023-07-20\tEmily Johnson\tSoftware update\t1.5\t100.0\n",
      "*/\n",
      "\n",
      "\n",
      "CREATE TABLE universityconfigurations (\n",
      "\t\"ID\" INTEGER NOT NULL, \n",
      "\t\"Base_Station\" TEXT NOT NULL, \n",
      "\t\"Location\" TEXT NOT NULL, \n",
      "\t\"Bandwidth\" REAL NOT NULL, \n",
      "\t\"Transmission_Power\" REAL NOT NULL, \n",
      "\t\"Frequency_Band\" REAL NOT NULL, \n",
      "\t\"Coverage_Area\" REAL NOT NULL, \n",
      "\t\"Maximum_Capacity\" INTEGER NOT NULL, \n",
      "\t\"Operational_Status\" TEXT NOT NULL, \n",
      "\t\"Deployment_Date\" TEXT NOT NULL, \n",
      "\tPRIMARY KEY (\"Base_Station\")\n",
      ")\n",
      "\n",
      "/*\n",
      "3 rows from universityconfigurations table:\n",
      "ID\tBase_Station\tLocation\tBandwidth\tTransmission_Power\tFrequency_Band\tCoverage_Area\tMaximum_Capacity\tOperational_Status\tDeployment_Date\n",
      "1\tBS-001\t37.7749° N, 122.4194° W\t100.0\t40.0\t3.5\t5.0\t500\tActive\t2023-01-15\n",
      "2\tBS-002\t34.0522° N, 118.2437° W\t80.0\t35.0\t3.7\t4.5\t450\tActive\t2023-02-20\n",
      "3\tBS-003\t40.7128° N, 74.0060° W\t120.0\t45.0\t3.6\t6.0\t600\tMaintenance\t2023-03-18\n",
      "*/\n"
     ]
    }
   ],
   "source": [
    "context = db.get_context()\n",
    "print(list(context))\n",
    "print(context[\"table_info\"])"
   ]
  },
  {
   "cell_type": "code",
   "execution_count": 8,
   "metadata": {},
   "outputs": [
    {
     "data": {
      "text/plain": [
       "\"```sql\\nSELECT COUNT(*) AS num_base_stations\\nFROM universityconfigurations\\nWHERE Base_Station = 'BS-001';\\n```\""
      ]
     },
     "execution_count": 8,
     "metadata": {},
     "output_type": "execute_result"
    }
   ],
   "source": [
    "from langchain.chains import create_sql_query_chain\n",
    "custom_template='''You are a SQLite expert. Given an input question, first create a syntactically correct SQLite query to run, then look at the results of the query and return the answer to the \n",
    "input question.\n",
    "Never query for all columns from a table. You must query only the columns that are needed to answer the question. Wrap each column name in double quotes (\") to denote them as delimited identifiers.\n",
    "Pay attention to use only the column names you can see in the tables below. Be careful to not query for columns that do not exist. Also, pay attention to which column is in which table.\n",
    "Pay attention to use date('now') function to get the current date, if the question involves \"today\".\n",
    "If mot mentioned do not use {top_k} rows. Output only the SQL Query without any output or result of the query.\n",
    "Make sure you are replacing ```sql word to blank space. If the answer could not be found, give a single line meaningful error\n",
    "\n",
    "Context:\n",
    "    CREATE TABLE maintenance (\n",
    "\t\"Maintenance_ID\" INTEGER, \n",
    "\t\"Base_Station\" TEXT NOT NULL, \n",
    "\t\"Maintenance_Date\" TEXT NOT NULL, \n",
    "\t\"Technician_Name\" TEXT NOT NULL, \n",
    "\t\"Description\" TEXT, \n",
    "\t\"Duration_hours\" REAL NOT NULL, \n",
    "\t\"Cost\" REAL NOT NULL, \n",
    "\tPRIMARY KEY (\"Maintenance_ID\"), \n",
    "\tFOREIGN KEY(\"Base_Station\") REFERENCES universityconfigurations (\"Base_Station\")\n",
    ")\n",
    "\n",
    "\tCREATE TABLE \"universityconfigurations\" (\n",
    "    ID INTEGER NOT NULL,\n",
    "    Base_Station TEXT NOT NULL,\n",
    "    Location TEXT NOT NULL,\n",
    "    Bandwidth REAL NOT NULL,\n",
    "    Transmission_Power REAL NOT NULL,\n",
    "    Frequency_Band REAL NOT NULL,\n",
    "    Coverage_Area REAL NOT NULL,\n",
    "    Maximum_Capacity INTEGER NOT NULL,\n",
    "    Operational_Status TEXT NOT NULL,\n",
    "    Deployment_Date TEXT NOT NULL,\n",
    "    PRIMARY KEY (Base_Station)\n",
    ")\n",
    "\n",
    "For Base stations id's always use BS-00 in the prefix. For example, if base station 4 is asked use 'BS-004'.\n",
    "    \n",
    "Only use the following tables:\n",
    "    {table_info}.\n",
    "\n",
    "\n",
    "Question: {input}'''\n",
    "example_prompt = PromptTemplate(\n",
    "input_variables=[\"input\", \"top_k\",\"table_info\"], template=custom_template)\n",
    "write_query = create_sql_query_chain(llm, db,prompt=example_prompt)\n",
    "# write_query = create_sql_query_chain(llm, db)\n",
    "response = write_query.invoke({\"question\": \"Count the number of base stations?\"})\n",
    "response"
   ]
  },
  {
   "cell_type": "code",
   "execution_count": null,
   "metadata": {},
   "outputs": [],
   "source": [
    "response = write_query.invoke({\"question\": \"What is the station id?\"})\n",
    "response"
   ]
  },
  {
   "cell_type": "code",
   "execution_count": null,
   "metadata": {},
   "outputs": [],
   "source": []
  }
 ],
 "metadata": {
  "kernelspec": {
   "display_name": "venv",
   "language": "python",
   "name": "python3"
  },
  "language_info": {
   "codemirror_mode": {
    "name": "ipython",
    "version": 3
   },
   "file_extension": ".py",
   "mimetype": "text/x-python",
   "name": "python",
   "nbconvert_exporter": "python",
   "pygments_lexer": "ipython3",
   "version": "3.12.4"
  }
 },
 "nbformat": 4,
 "nbformat_minor": 2
}
