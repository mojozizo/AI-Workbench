{
 "cells": [
  {
   "cell_type": "code",
   "execution_count": 98,
   "metadata": {},
   "outputs": [],
   "source": [
    "import sqlite3\n",
    "from langchain_community.utilities import SQLDatabase\n",
    "from langchain.llms import Ollama"
   ]
  },
  {
   "cell_type": "code",
   "execution_count": 100,
   "metadata": {},
   "outputs": [
    {
     "name": "stdout",
     "output_type": "stream",
     "text": [
      "sqlite\n",
      "['titanic']\n"
     ]
    },
    {
     "data": {
      "text/plain": [
       "\"[('N', '3', 'Mr. Owen Harris Braund', 'male', '22.0', '1', '0', '7.25'), ('1', '1', 'Mrs. John Bradley (Florence Briggs Thayer) Cumings', 'female', '38.0', '1', '0', '71.2833'), ('1', '3', 'Miss. Laina Heikkinen', 'female', '26.0', '0', '0', '7.925'), ('1', '1', 'Mrs. Jacques Heath (Lily May Peel) Futrelle', 'female', '35.0', '1', '0', '53.1'), ('0', '3', 'Mr. William Henry Allen', 'male', '35.0', '0', '0', '8.05'), ('0', '3', 'Mr. James Moran', 'male', '27.0', '0', '0', '8.4583'), ('0', '1', 'Mr. Timothy J McCarthy', 'male', '54.0', '0', '0', '51.8625'), ('0', '3', 'Master. Gosta Leonard Palsson', 'male', '2.0', '3', '1', '21.075'), ('1', '3', 'Mrs. Oscar W (Elisabeth Vilhelmina Berg) Johnson', 'female', '27.0', '0', '2', '11.1333'), ('1', '2', 'Mrs. Nicholas (Adele Achem) Nasser', 'female', '14.0', '1', '0', '30.0708')]\""
      ]
     },
     "execution_count": 100,
     "metadata": {},
     "output_type": "execute_result"
    }
   ],
   "source": [
    "db_path = \"data/demo.db\"\n",
    "db = SQLDatabase.from_uri(f\"sqlite:///{db_path}\")\n",
    "print(db.dialect)\n",
    "print(db.get_usable_table_names())\n",
    "db.run(\"SELECT * FROM titanic LIMIT 10;\")"
   ]
  },
  {
   "cell_type": "code",
   "execution_count": 80,
   "metadata": {},
   "outputs": [
    {
     "name": "stdout",
     "output_type": "stream",
     "text": [
      "\n",
      "CREATE TABLE titanic (\n",
      "\t\"Survived\" TEXT, \n",
      "\t\"Pclass\" TEXT, \n",
      "\t\"Name\" TEXT, \n",
      "\t\"Sex\" TEXT, \n",
      "\t\"Age\" TEXT, \n",
      "\t\"Siblings_Spouses_Aboard\" TEXT, \n",
      "\t\"Parents_Children_Aboard\" TEXT, \n",
      "\t\"Fare\" TEXT\n",
      ")\n",
      "\n",
      "/*\n",
      "3 rows from titanic table:\n",
      "Survived\tPclass\tName\tSex\tAge\tSiblings_Spouses_Aboard\tParents_Children_Aboard\tFare\n",
      "N\t3\tMr. Owen Harris Braund\tmale\t22.0\t1\t0\t7.25\n",
      "1\t1\tMrs. John Bradley (Florence Briggs Thayer) Cumings\tfemale\t38.0\t1\t0\t71.2833\n",
      "1\t3\tMiss. Laina Heikkinen\tfemale\t26.0\t0\t0\t7.925\n",
      "*/\n"
     ]
    }
   ],
   "source": [
    "# print(db.table_info)"
   ]
  },
  {
   "cell_type": "code",
   "execution_count": 118,
   "metadata": {},
   "outputs": [
    {
     "name": "stdout",
     "output_type": "stream",
     "text": [
      "<bound method Runnable.get_prompts of AgentExecutor(name='SQL Agent Executor', verbose=True, agent=RunnableAgent(runnable=RunnableAssign(mapper={\n",
      "  agent_scratchpad: RunnableLambda(lambda x: format_log_to_str(x['intermediate_steps']))\n",
      "})\n",
      "| PromptTemplate(input_variables=['agent_scratchpad', 'input'], partial_variables={'tools': \"sql_db_query - Input to this tool is a detailed and correct SQL query, output is a result from the database. If the query is not correct, an error message will be returned. If an error is returned, rewrite the query, check the query, and try again. If you encounter an issue with Unknown column 'xxxx' in 'field list', use sql_db_schema to query the correct table fields.\\nsql_db_schema - Input to this tool is a comma-separated list of tables, output is the schema and sample rows for those tables. Be sure that the tables actually exist by calling sql_db_list_tables first! Example Input: table1, table2, table3\\nsql_db_list_tables - Input is an empty string, output is a comma-separated list of tables in the database.\\nsql_db_query_checker - Use this tool to double check if your query is correct before executing it. Always use this tool before executing a query with sql_db_query!\", 'tool_names': 'sql_db_query, sql_db_schema, sql_db_list_tables, sql_db_query_checker'}, template='Answer the following questions as best you can. You have access to the following tools:\\n\\n{tools}\\n\\nUse the following format:\\n\\nQuestion: the input question you must answer\\nThought: you should always think about what to do\\nAction: the action to take, should be one of [{tool_names}]\\nAction Input: the input to the action\\nObservation: the result of the action\\n... (this Thought/Action/Action Input/Observation can repeat N times)\\nThought: I now know the final answer\\nFinal Answer: the final answer to the original input question\\n\\nBegin!\\n\\nQuestion: {input}\\nThought:{agent_scratchpad}')\n",
      "| RunnableBinding(bound=Ollama(model='phi3'), kwargs={'stop': ['\\nObservation']})\n",
      "| ReActSingleInputOutputParser(), input_keys_arg=['input'], return_keys_arg=['output'], stream_runnable=True), tools=[QuerySQLDataBaseTool(description=\"Input to this tool is a detailed and correct SQL query, output is a result from the database. If the query is not correct, an error message will be returned. If an error is returned, rewrite the query, check the query, and try again. If you encounter an issue with Unknown column 'xxxx' in 'field list', use sql_db_schema to query the correct table fields.\", db=<langchain_community.utilities.sql_database.SQLDatabase object at 0x16263b080>), InfoSQLDatabaseTool(description='Input to this tool is a comma-separated list of tables, output is the schema and sample rows for those tables. Be sure that the tables actually exist by calling sql_db_list_tables first! Example Input: table1, table2, table3', db=<langchain_community.utilities.sql_database.SQLDatabase object at 0x16263b080>), ListSQLDatabaseTool(db=<langchain_community.utilities.sql_database.SQLDatabase object at 0x16263b080>), QuerySQLCheckerTool(description='Use this tool to double check if your query is correct before executing it. Always use this tool before executing a query with sql_db_query!', db=<langchain_community.utilities.sql_database.SQLDatabase object at 0x16263b080>, llm=Ollama(model='phi3'), llm_chain=LLMChain(prompt=PromptTemplate(input_variables=['dialect', 'query'], template='\\n{query}\\nDouble check the {dialect} query above for common mistakes, including:\\n- Using NOT IN with NULL values\\n- Using UNION when UNION ALL should have been used\\n- Using BETWEEN for exclusive ranges\\n- Data type mismatch in predicates\\n- Properly quoting identifiers\\n- Using the correct number of arguments for functions\\n- Casting to the correct data type\\n- Using the proper columns for joins\\n\\nIf there are any of the above mistakes, rewrite the query. If there are no mistakes, just reproduce the original query.\\n\\nOutput the final SQL query only.\\n\\nSQL Query: '), llm=Ollama(model='phi3')))])>\n"
     ]
    }
   ],
   "source": [
    "from langchain_community.agent_toolkits import create_sql_agent\n",
    "from langchain.agents import AgentType\n",
    "\n",
    "print(agent_executor.get_prompts)"
   ]
  },
  {
   "cell_type": "code",
   "execution_count": 124,
   "metadata": {},
   "outputs": [],
   "source": [
    "from langchain_core.prompts import ChatPromptTemplate, SystemMessagePromptTemplate\n",
    "\n",
    "system_prefix = \"\"\"You are an agent designed to interact with a SQL database.\n",
    "Given an input question, create a syntactically correct {dialect} query to run, then look at the results of the query and return the answer.\n",
    "You can order the results by a relevant column to return the most interesting examples in the database.\n",
    "Never query for all the columns from a specific table, only ask for the relevant columns given the question.\n",
    "You MUST double check your query before executing it. If you get an error while executing a query, rewrite the query and try again.\n",
    "\n",
    "DO NOT make any DML statements (INSERT, UPDATE, DELETE, DROP etc.) to the database.\n",
    "\n",
    "If the question does not seem related to the database, just return \"I don't know\" as the answer.\n",
    "\"\"\"\n",
    "\n",
    "system_suffix = \"\"\"Frame the answer into a sentence and return it in an easy way to understand\"\"\"\n",
    "\n",
    "agent_executor = create_sql_agent(llm, db=db, prefix=system_prefix, suffix=system_suffix, agent_type=AgentType.ZERO_SHOT_REACT_DESCRIPTION, verbose=True)"
   ]
  },
  {
   "cell_type": "code",
   "execution_count": null,
   "metadata": {},
   "outputs": [],
   "source": [
    "# agent_executor.invoke({\"input\": \"Describe the titanic table\"})"
   ]
  },
  {
   "cell_type": "code",
   "execution_count": 126,
   "metadata": {},
   "outputs": [
    {
     "name": "stdout",
     "output_type": "stream",
     "text": [
      "\n",
      "\n",
      "\u001b[1m> Entering new SQL Agent Executor chain...\u001b[0m\n",
      "\u001b[32;1m\u001b[1;3m Thought: First, I need to ensure that there is a table related to the Titanic's passenger information. If not, I will check if such tables exist in the database using sql_db_list_tables tool. Then, after confirming the existence of relevant tables and their schema with sql_db_schema, I can construct an SQL query to count passengers on the Titanic.\n",
      "\n",
      "Action: sql_db_list_tables\n",
      "Action Input: \u001b[0m\u001b[38;5;200m\u001b[1;3mtitanic\u001b[0m\u001b[32;1m\u001b[1;3m Thought: Now that I have confirmed the existence of a table related to the Titanic's passenger information, I will use sql_db_schema tool to get the schema and sample rows for this table. After understanding the structure of the table, I can construct an SQL query using sql_db_query_checker to ensure its correctness before executing it with sql_db_query.\n",
      "\n",
      "Action: sql_db_schema\n",
      "Action Input: titanic\u001b[0m\u001b[33;1m\u001b[1;3m\n",
      "CREATE TABLE titanic (\n",
      "\t\"Survived\" TEXT, \n",
      "\t\"Pclass\" TEXT, \n",
      "\t\"Name\" TEXT, \n",
      "\t\"Sex\" TEXT, \n",
      "\t\"Age\" TEXT, \n",
      "\t\"Siblings_Spouses_Aboard\" TEXT, \n",
      "\t\"Parents_Children_Aboard\" TEXT, \n",
      "\t\"Fare\" TEXT\n",
      ")\n",
      "\n",
      "/*\n",
      "3 rows from titanic table:\n",
      "Survived\tPclass\tName\tSex\tAge\tSiblings_Spouses_Aboard\tParents_Children_Aboard\tFare\n",
      "N\t3\tMr. Owen Harris Braund\tmale\t22.0\t1\t0\t7.25\n",
      "1\t1\tMrs. John Bradley (Florence Briggs Thayer) Cumings\tfemale\t38.0\t1\t0\t71.2833\n",
      "1\t3\tMiss. Laina Heikkinen\tfemale\t26.0\t0\t0\t7.925\n",
      "*/\u001b[0m\u001b[32;1m\u001b[1;3m Thought: Now that I have the schema for the 'titanic' table, I can construct an SQL query to count passengers who were onboard the Titanic. The query should include a WHERE clause to ensure we only consider rows from the 'Titanic' table.\n",
      "\n",
      "Action: sql_db_query_checker\n",
      "Action Input: SELECT COUNT(*) FROM titanic;\u001b[0m\u001b[36;1m\u001b[1;3m SELECT COUNT(*) FROM titanic;\u001b[0m\u001b[32;1m\u001b[1;3m Thought: Now that I have confirmed the correctness of my SQL query with sql_db Written in markdown, this response should follow a structured format using the tools described. The question asked is about counting passengers on the Titanic from the database.\n",
      "\n",
      "\n",
      "Question: How many passengers were present in the Titanic?\n",
      "\n",
      "Thought: To answer this question accurately, I need to first confirm if there's a table related to the Titanic in the database and understand its schema. This will involve querying the list of tables using sql_db_list_tables and then checking the structure with sql_db_schema for any columns that would allow me to count passengers.\n",
      "\n",
      "Action: sql_db_list_tables\n",
      "Action Input: \u001b[0m\u001b[38;5;200m\u001b[1;3mtitanic\u001b[0m\u001b[32;1m\u001b[1;3m Thought: I have confirmed that there is a table named 'titanic' in the database. Now, I need to check its schema using sql_db_schema to ensure all necessary columns are present for constructing an accurate SQL query.\n",
      "\n",
      "Action: sql_db_schema\n",
      "Action Input: titanic\u001b[0m\u001b[33;1m\u001b[1;3m\n",
      "CREATE TABLE titanic (\n",
      "\t\"Survived\" TEXT, \n",
      "\t\"Pclass\" TEXT, \n",
      "\t\"Name\" TEXT, \n",
      "\t\"Sex\" TEXT, \n",
      "\t\"Age\" TEXT, \n",
      "\t\"Siblings_Spouses_Aboard\" TEXT, \n",
      "\t\"Parents_Children_Aboard\" TEXT, \n",
      "\t\"Fare\" TEXT\n",
      ")\n",
      "\n",
      "/*\n",
      "3 rows from titanic table:\n",
      "Survived\tPclass\tName\tSex\tAge\tSiblings_Spouses_Aboard\tParents_Children_Aboard\tFare\n",
      "N\t3\tMr. Owen Harris Braund\tmale\t22.0\t1\t0\t7.25\n",
      "1\t1\tMrs. John Bradley (Florence Briggs Thayer) Cumings\tfemale\t38.0\t1\t0\t71.2833\n",
      "1\t3\tMiss. Laina Heikkinen\tfemale\t26.0\t0\t0\t7.925\n",
      "*/\u001b[0m\u001b[32;1m\u001b[1;3m Given the schema of the 'titanic' table, we can see that there are several columns which provide information about each passenger onboard. To count the number of passengers present in the Titanic, I need to execute an SQL query that considers all entries within this table regardless of specific conditions like survival status or class (Pclass).\n",
      "\n",
      "Action: sql_db_query_checker\n",
      "Action Input: SELECT COUNT(*) FROM titanic;\u001b[0m\u001b[36;1m\u001b[1;3m SELECT COUNT(*) FROM titanic;\u001b[0m\u001b[32;1m\u001b[1;3m Thought: With the schema confirmed and a preliminary query validated, I can now confidently execute the SQL query to count the total number of passengers in the Titanic. The final answer will be obtained by executing sql_db_query with the prepared query.\n",
      "\n",
      "Action: sql_db_query\n",
      "Action Input: SELECT COUNT(*) FROM titanic;\u001b[0m\u001b[36;1m\u001b[1;3m[(887,)]\u001b[0m\u001b[32;1m\u001b[1;3m Final Answer: There were 887 passengers onboard the Titanic.\u001b[0m\n",
      "\n",
      "\u001b[1m> Finished chain.\u001b[0m\n"
     ]
    }
   ],
   "source": [
    "result=agent_executor.invoke(\"How many passengers were present in the Titanic ?\")"
   ]
  },
  {
   "cell_type": "code",
   "execution_count": 92,
   "metadata": {},
   "outputs": [
    {
     "name": "stdout",
     "output_type": "stream",
     "text": [
      "\n",
      "\n",
      "\u001b[1m> Entering new SQL Agent Executor chain...\u001b[0m\n",
      "\u001b[32;1m\u001b[1;3m Question: Who are you?\n",
      "Thought: This is a non-technical question. As an AI developed by Microsoft, I am a digital assistant designed to help with information and tasks using my capabilities in processing data and providing helpful responses based on the knowledge encoded within me up until my last update.\n",
      "\n",
      "Final Answer: I am a digital assistant powered by artificial intelligence, here to provide you with assistance and information.\n",
      "\n",
      "(Note: Since this is not an SQL-related query, there's no need for any database action tools in this context.)\u001b[0m\n",
      "\n",
      "\u001b[1m> Finished chain.\u001b[0m\n"
     ]
    }
   ],
   "source": [
    "result=agent_executor.invoke(\"Who are you ?\")"
   ]
  },
  {
   "cell_type": "code",
   "execution_count": 128,
   "metadata": {},
   "outputs": [
    {
     "name": "stdout",
     "output_type": "stream",
     "text": [
      "\n",
      "\n",
      "\u001b[1m> Entering new SQL Agent Executor chain...\u001b[0m\n",
      "\u001b[32;1m\u001b[1;3m Action: sql_db_list_tables\n",
      "Action Input: \u001b[0m\u001b[38;5;200m\u001b[1;3mtitanic\u001b[0m\u001b[32;1m\u001b[1;3m Thought: Now that I have confirmed the existence of the \"titanic\" table in the database, I should use the sql_db_schema tool to get its schema and sample rows.\n",
      "Action: sql_db_schema\n",
      "Action Input: titanic\u001b[0m\u001b[33;1m\u001b[1;3m\n",
      "CREATE TABLE titanic (\n",
      "\t\"Survived\" TEXT, \n",
      "\t\"Pclass\" TEXT, \n",
      "\t\"Name\" TEXT, \n",
      "\t\"Sex\" TEXT, \n",
      "\t\"Age\" TEXT, \n",
      "\t\"Siblings_Spouses_Aboard\" TEXT, \n",
      "\t\"Parents_Children_Aboard\" TEXT, \n",
      "\t\"Fare\" TEXT\n",
      ")\n",
      "\n",
      "/*\n",
      "3 rows from titanic table:\n",
      "Survived\tPclass\tName\tSex\tAge\tSiblings_Spouses_Aboard\tParents_Children_Aboard\tFare\n",
      "N\t3\tMr. Owen Harris Braund\tmale\t22.0\t1\t0\t7.25\n",
      "1\t1\tMrs. John Bradley (Florence Briggs Thayer) Cumings\tfemale\t38.0\t1\t0\t71.2833\n",
      "1\t3\tMiss. Laina Heikkinen\tfemale\t26.0\t0\t0\t7.925\n",
      "*/\u001b[0m\u001b[32;1m\u001b[1;3m Final Answer: The Titanic table is a database table that contains information about the passengers of the Titanic ship. It has the following columns and their respective data types:\n",
      "\n",
      "1. Survived - Text (indicates if the passenger survived or not)\n",
      "2. Pclass - Text (represents the class in which the passenger traveayered, i.e., 1st, 2nd, or 3rd)\n",
      "3. Name - Text (contains the full name of the passenger)\n",
      "4. Sex - Text (indicates the gender of the passenger: male or female)\n",
      "5. Age - Text (represents the age of the passenger in years and months)\n",
      "6. Siblings_Spouses_Aboard - Text (shows if any siblings, spouses, or children of the passenger were also on board the Titanic)\n",
      "7. Parents_Children_Aboard - Text (indicates if the parent(s) or child(ren) of the passenger was/were aboard)\n",
      "8. Fare - Text (represents the fare paid by the passenger for their ticket)\n",
      "\n",
      "The table also includes a sample data row:\n",
      "- Mr. Owen Harris Braund, male, 22 years old, one sibling or spouse on board, no parents or children on board, and paid a fare of $7.25.\n",
      "- Mrs. John Bradley (Florence Briggs Thayer) Cumings, female, 38 years old, one sibling or spouse on board, no parents or children on board, and paid a fare of $71.2833.\n",
      "- Miss. Laina Heikkinen, female, 26 years old, no siblings or spouses on board, no parents or children on board, and paid a fare of $7.925.\u001b[0m\n",
      "\n",
      "\u001b[1m> Finished chain.\u001b[0m\n"
     ]
    }
   ],
   "source": [
    "result=agent_executor.invoke(\"Describe the titanic table ?\")"
   ]
  },
  {
   "cell_type": "code",
   "execution_count": 130,
   "metadata": {},
   "outputs": [
    {
     "data": {
      "text/plain": [
       "Ollama(model='phi3')"
      ]
     },
     "execution_count": 130,
     "metadata": {},
     "output_type": "execute_result"
    }
   ],
   "source": [
    "llm"
   ]
  },
  {
   "cell_type": "code",
   "execution_count": 138,
   "metadata": {},
   "outputs": [
    {
     "name": "stdout",
     "output_type": "stream",
     "text": [
      " I'm TechHelperBot, created as a Research project at the Technical University of Ilmenau under Jijo Valiyaveettil for assisting with queries regarding our unique 5G infrastructure inside the institution! How can I help today? Are there specific details about our configurations you need information on within the scope mentioned above (base station locations, bandwidth, transmission power, antenna types and configuration, network coverage area, signal strength)? Any upgrades or issues to discuss in relation with 5G connectivity at the University of Ilmenau. Let'this interaction about providing insights into our advanced communication system!\n"
     ]
    }
   ],
   "source": [
    "llm = Ollama(model=\"sample\")\n",
    "print(llm.invoke(\"Who are you ?\"))"
   ]
  },
  {
   "cell_type": "code",
   "execution_count": null,
   "metadata": {},
   "outputs": [],
   "source": [
    "from langchain_community.tools.sql_database.tool import QuerySQLDataBaseTool\n",
    "from operator import itemgetter\n",
    "from langchain_core.output_parsers import StrOutputParser\n",
    "from langchain_core.prompts import PromptTemplate\n",
    "from langchain_core.runnables import RunnablePassthrough, RunnableLambda\n",
    "\n",
    "# Create the SQL query chain\n",
    "chain = create_sql_query_chain(llm, db)\n",
    "\n",
    "# Define the prompt template\n",
    "answer_prompt = PromptTemplate.from_template(\n",
    "    \"\"\"Given the following user question, corresponding SQL query, and SQL result, answer the user question.\n",
    "\n",
    "Question: {question}\n",
    "SQL Query: {query}\n",
    "SQL Result: {result}\n",
    "Answer: \"\"\"\n",
    ")\n",
    "\n",
    "# Define the final chain with the query and result processing\n",
    "execute_query = QuerySQLDataBaseTool(db=db)\n",
    "answer = answer_prompt | llm | StrOutputParser()\n",
    "\n",
    "final_chain = (\n",
    "    RunnablePassthrough.assign(query=lambda x: x['sql_query']).assign(\n",
    "        result=itemgetter(\"query\") | execute_query\n",
    "    )\n",
    "    | answer\n",
    ")\n",
    "\n",
    "def ask_question(question):\n",
    "    # Invoke the chain to get the SQL query\n",
    "    response = chain.invoke({\"question\": question})\n",
    "\n",
    "    # Extract the SQL query from the response\n",
    "    sql_query = response.strip().split(': ')[2]\n",
    "\n",
    "    # Get the final answer\n",
    "    result = final_chain.invoke({\"question\": question, \"sql_query\": sql_query})\n",
    "    \n",
    "    return result"
   ]
  }
 ],
 "metadata": {
  "kernelspec": {
   "display_name": "Python 3 (ipykernel)",
   "language": "python",
   "name": "python3"
  },
  "language_info": {
   "codemirror_mode": {
    "name": "ipython",
    "version": 3
   },
   "file_extension": ".py",
   "mimetype": "text/x-python",
   "name": "python",
   "nbconvert_exporter": "python",
   "pygments_lexer": "ipython3",
   "version": "3.12.4"
  }
 },
 "nbformat": 4,
 "nbformat_minor": 4
}
