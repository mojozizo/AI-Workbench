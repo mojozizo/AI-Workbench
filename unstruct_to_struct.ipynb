{
 "cells": [
  {
   "cell_type": "code",
   "execution_count": null,
   "id": "702a03ef",
   "metadata": {},
   "outputs": [
    {
     "name": "stdout",
     "output_type": "stream",
     "text": [
      "The color of the sky can be attributed to Rayleigh scattering. This phenomenon occurs when sunlight passes through Earth's atmosphere and interacts with molecules in it, such as nitrogen (N2) and oxygen (O2). These gas particles scatter short-wavelength light like blues and violets more efficiently than longer wavelengths.\n",
      "\n",
      "\n",
      "However, because our eyes are less sensitive to violet compared to blue; the sky appears predominantly blue. Additionally, there is twice as much scattering for every wavelength of visible red sunlight when it compares with other colors in shorter waves such as purple or yellow-violet due to its smaller wave length and thus stronger interaction between these molecules.\n",
      "\n",
      "\n",
      "During sunrise/sunset however this color shifts towards reddish hues because sun's rays pass through more atmosphere which scatters the blue light away leaving behind longer wavelengths like reds, oranges."
     ]
    }
   ],
   "source": [
    "from ollama import chat\n",
    "\n",
    "stream = chat(\n",
    "    model='phi4-mini',\n",
    "    messages=[{'role': 'user', 'content': 'Why is the sky blue?'}],\n",
    "    stream=True,\n",
    ")\n",
    "\n",
    "for chunk in stream:\n",
    "  print(chunk['message']['content'], end='', flush=True)"
   ]
  },
  {
   "cell_type": "code",
   "execution_count": 4,
   "id": "83cebe95",
   "metadata": {},
   "outputs": [],
   "source": [
    "email = \"\"\"\n",
    "Subject: Assistance Required with Order #654321\n",
    "\n",
    "Dear Customer Support Team,\n",
    "\n",
    "I hope this email finds you well. My name is John Doe, and I recently placed an order through your website. I am writing to seek your assistance regarding an issue with this order.\n",
    "\n",
    "Details of the Order:\n",
    "\n",
    "Customer Name: John Doe\n",
    "\n",
    "Order Number: 654321\n",
    "\n",
    "Order Date: March 15, 2025\n",
    "\n",
    "Item(s) Purchased: Wireless Headphones - Model XYZ\n",
    "\n",
    "Description of the Issue: The item I received is not the one I ordered. I had ordered Model XYZ, but I received Model ABC instead.\n",
    "\n",
    "Please let me know if you need any further information to assist in resolving this issue. I would greatly appreciate your prompt attention and look forward to hearing from you soon.\n",
    "\n",
    "Thank you for your support!\n",
    "\n",
    "\"\"\""
   ]
  },
  {
   "cell_type": "code",
   "execution_count": 5,
   "id": "ee575840",
   "metadata": {},
   "outputs": [
    {
     "data": {
      "text/plain": [
       "'\\nSubject: Assistance Required with Order #654321\\n\\nDear Customer Support Team,\\n\\nI hope this email finds you well. My name is John Doe, and I recently placed an order through your website. I am writing to seek your assistance regarding an issue with this order.\\n\\nDetails of the Order:\\n\\nCustomer Name: John Doe\\n\\nOrder Number: 654321\\n\\nOrder Date: March 15, 2025\\n\\nItem(s) Purchased: Wireless Headphones - Model XYZ\\n\\nDescription of the Issue: The item I received is not the one I ordered. I had ordered Model XYZ, but I received Model ABC instead.\\n\\nPlease let me know if you need any further information to assist in resolving this issue. I would greatly appreciate your prompt attention and look forward to hearing from you soon.\\n\\nThank you for your support!\\n\\n'"
      ]
     },
     "execution_count": 5,
     "metadata": {},
     "output_type": "execute_result"
    }
   ],
   "source": [
    "email"
   ]
  },
  {
   "cell_type": "code",
   "execution_count": 8,
   "id": "5db0f345",
   "metadata": {},
   "outputs": [],
   "source": [
    "from pydantic import BaseModel, Field\n",
    "\n",
    "class Email(BaseModel):\n",
    "    customer_name: str = Field(description=\"The name of the customer\")\n",
    "    order_number: str = Field(description=\"The order number\")\n",
    "    item: str = Field(description=\"The item being ordered\")\n",
    "    date: str = Field(description=\"The date of the email\")\n",
    "\n",
    "detail_email = Email.model_json_schema()"
   ]
  },
  {
   "cell_type": "code",
   "execution_count": 9,
   "id": "a8fdb627",
   "metadata": {},
   "outputs": [
    {
     "data": {
      "text/plain": [
       "{'properties': {'customer_name': {'description': 'The name of the customer',\n",
       "   'title': 'Customer Name',\n",
       "   'type': 'string'},\n",
       "  'order_number': {'description': 'The order number',\n",
       "   'title': 'Order Number',\n",
       "   'type': 'string'},\n",
       "  'item': {'description': 'The item being ordered',\n",
       "   'title': 'Item',\n",
       "   'type': 'string'},\n",
       "  'date': {'description': 'The date of the email',\n",
       "   'title': 'Date',\n",
       "   'type': 'string'}},\n",
       " 'required': ['customer_name', 'order_number', 'item', 'date'],\n",
       " 'title': 'Email',\n",
       " 'type': 'object'}"
      ]
     },
     "execution_count": 9,
     "metadata": {},
     "output_type": "execute_result"
    }
   ],
   "source": [
    "detail_email"
   ]
  },
  {
   "cell_type": "code",
   "execution_count": 10,
   "id": "62cf50e2",
   "metadata": {},
   "outputs": [
    {
     "name": "stdout",
     "output_type": "stream",
     "text": [
      "{\n",
      "  \"customer_name\": \"John Doe\",\n",
      "  \"order_number\": \"654321\",\n",
      "  \"item\":\n",
      "    \"[{'model': 'XYZ', 'received_model': 'ABC'}]\",\n",
      "  \"date\": \"2025-03-15\"\n",
      "}\n"
     ]
    }
   ],
   "source": [
    "response = chat(\n",
    "    model='phi4-mini',\n",
    "    messages=[{'role': 'user', \n",
    "                'content': f\"Please extract the details from the email and fill in the fields in the JSON schema.{email}\"}],\n",
    "    format=detail_email,\n",
    ")\n",
    "\n",
    "\n",
    "print(response['message']['content'])"
   ]
  },
  {
   "cell_type": "code",
   "execution_count": 11,
   "id": "cd00b233",
   "metadata": {},
   "outputs": [],
   "source": [
    "import pandas as pd\n",
    "import json \n",
    "\n",
    "output_json = json.loads(response['message']['content'])\n",
    "df = pd.DataFrame(output_json, index=[0])\n"
   ]
  },
  {
   "cell_type": "code",
   "execution_count": 12,
   "id": "1447b549",
   "metadata": {},
   "outputs": [
    {
     "data": {
      "text/html": [
       "<div>\n",
       "<style scoped>\n",
       "    .dataframe tbody tr th:only-of-type {\n",
       "        vertical-align: middle;\n",
       "    }\n",
       "\n",
       "    .dataframe tbody tr th {\n",
       "        vertical-align: top;\n",
       "    }\n",
       "\n",
       "    .dataframe thead th {\n",
       "        text-align: right;\n",
       "    }\n",
       "</style>\n",
       "<table border=\"1\" class=\"dataframe\">\n",
       "  <thead>\n",
       "    <tr style=\"text-align: right;\">\n",
       "      <th></th>\n",
       "      <th>customer_name</th>\n",
       "      <th>order_number</th>\n",
       "      <th>item</th>\n",
       "      <th>date</th>\n",
       "    </tr>\n",
       "  </thead>\n",
       "  <tbody>\n",
       "    <tr>\n",
       "      <th>0</th>\n",
       "      <td>John Doe</td>\n",
       "      <td>654321</td>\n",
       "      <td>[{'model': 'XYZ', 'received_model': 'ABC'}]</td>\n",
       "      <td>2025-03-15</td>\n",
       "    </tr>\n",
       "  </tbody>\n",
       "</table>\n",
       "</div>"
      ],
      "text/plain": [
       "  customer_name order_number                                         item  \\\n",
       "0      John Doe       654321  [{'model': 'XYZ', 'received_model': 'ABC'}]   \n",
       "\n",
       "         date  \n",
       "0  2025-03-15  "
      ]
     },
     "execution_count": 12,
     "metadata": {},
     "output_type": "execute_result"
    }
   ],
   "source": [
    "df"
   ]
  },
  {
   "cell_type": "code",
   "execution_count": null,
   "id": "cc327695",
   "metadata": {},
   "outputs": [],
   "source": []
  }
 ],
 "metadata": {
  "kernelspec": {
   "display_name": "base",
   "language": "python",
   "name": "python3"
  },
  "language_info": {
   "codemirror_mode": {
    "name": "ipython",
    "version": 3
   },
   "file_extension": ".py",
   "mimetype": "text/x-python",
   "name": "python",
   "nbconvert_exporter": "python",
   "pygments_lexer": "ipython3",
   "version": "3.12.4"
  }
 },
 "nbformat": 4,
 "nbformat_minor": 5
}
